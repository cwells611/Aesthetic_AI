{
 "cells": [
  {
   "attachments": {},
   "cell_type": "markdown",
   "metadata": {},
   "source": [
    "## Webscraper for Platte Furniture\n",
    "### If the driver does not work on your computer please look at https://sites.google.com/chromium.org/driver/downloads?authuser=0 for downloads \n",
    "### !pip install selenium if you do not have selenium\n",
    "### Lastly stay on the test/driver page when the code is running\n"
   ]
  },
  {
   "cell_type": "code",
   "execution_count": 93,
   "metadata": {},
   "outputs": [
    {
     "ename": "AttributeError",
     "evalue": "'DataFrame' object has no attribute 'append'",
     "output_type": "error",
     "traceback": [
      "\u001b[0;31m---------------------------------------------------------------------------\u001b[0m",
      "\u001b[0;31mAttributeError\u001b[0m                            Traceback (most recent call last)",
      "\u001b[0;32m/var/folders/yh/xsz9hb697dnbrnm2f3fjd8sr0000gn/T/ipykernel_82198/2425484390.py\u001b[0m in \u001b[0;36m?\u001b[0;34m()\u001b[0m\n\u001b[1;32m     56\u001b[0m \u001b[0;34m\u001b[0m\u001b[0m\n\u001b[1;32m     57\u001b[0m \u001b[0;31m# Loop through and append the data from the remaining websites\u001b[0m\u001b[0;34m\u001b[0m\u001b[0;34m\u001b[0m\u001b[0m\n\u001b[1;32m     58\u001b[0m \u001b[0;32mfor\u001b[0m \u001b[0mwebsite_data\u001b[0m \u001b[0;32min\u001b[0m \u001b[0mall_data\u001b[0m\u001b[0;34m[\u001b[0m\u001b[0;36m1\u001b[0m\u001b[0;34m:\u001b[0m\u001b[0;34m]\u001b[0m\u001b[0;34m:\u001b[0m\u001b[0;34m\u001b[0m\u001b[0;34m\u001b[0m\u001b[0m\n\u001b[1;32m     59\u001b[0m     \u001b[0mtemp_df\u001b[0m \u001b[0;34m=\u001b[0m \u001b[0mpd\u001b[0m\u001b[0;34m.\u001b[0m\u001b[0mDataFrame\u001b[0m\u001b[0;34m(\u001b[0m\u001b[0mwebsite_data\u001b[0m\u001b[0;34m)\u001b[0m\u001b[0;34m\u001b[0m\u001b[0;34m\u001b[0m\u001b[0m\n\u001b[0;32m---> 60\u001b[0;31m     \u001b[0mfinal_df\u001b[0m \u001b[0;34m=\u001b[0m \u001b[0mfinal_df\u001b[0m\u001b[0;34m.\u001b[0m\u001b[0mappend\u001b[0m\u001b[0;34m(\u001b[0m\u001b[0mtemp_df\u001b[0m\u001b[0;34m,\u001b[0m \u001b[0mignore_index\u001b[0m\u001b[0;34m=\u001b[0m\u001b[0;32mTrue\u001b[0m\u001b[0;34m)\u001b[0m\u001b[0;34m\u001b[0m\u001b[0;34m\u001b[0m\u001b[0m\n\u001b[0m\u001b[1;32m     61\u001b[0m \u001b[0;34m\u001b[0m\u001b[0m\n\u001b[1;32m     62\u001b[0m \u001b[0;31m# Print the final DataFrame\u001b[0m\u001b[0;34m\u001b[0m\u001b[0;34m\u001b[0m\u001b[0m\n\u001b[1;32m     63\u001b[0m \u001b[0mprint\u001b[0m\u001b[0;34m(\u001b[0m\u001b[0mfinal_df\u001b[0m\u001b[0;34m)\u001b[0m\u001b[0;34m\u001b[0m\u001b[0;34m\u001b[0m\u001b[0m\n",
      "\u001b[0;32m/Library/Frameworks/Python.framework/Versions/3.10/lib/python3.10/site-packages/pandas/core/generic.py\u001b[0m in \u001b[0;36m?\u001b[0;34m(self, name)\u001b[0m\n\u001b[1;32m   6295\u001b[0m             \u001b[0;32mand\u001b[0m \u001b[0mname\u001b[0m \u001b[0;32mnot\u001b[0m \u001b[0;32min\u001b[0m \u001b[0mself\u001b[0m\u001b[0;34m.\u001b[0m\u001b[0m_accessors\u001b[0m\u001b[0;34m\u001b[0m\u001b[0;34m\u001b[0m\u001b[0m\n\u001b[1;32m   6296\u001b[0m             \u001b[0;32mand\u001b[0m \u001b[0mself\u001b[0m\u001b[0;34m.\u001b[0m\u001b[0m_info_axis\u001b[0m\u001b[0;34m.\u001b[0m\u001b[0m_can_hold_identifiers_and_holds_name\u001b[0m\u001b[0;34m(\u001b[0m\u001b[0mname\u001b[0m\u001b[0;34m)\u001b[0m\u001b[0;34m\u001b[0m\u001b[0;34m\u001b[0m\u001b[0m\n\u001b[1;32m   6297\u001b[0m         ):\n\u001b[1;32m   6298\u001b[0m             \u001b[0;32mreturn\u001b[0m \u001b[0mself\u001b[0m\u001b[0;34m[\u001b[0m\u001b[0mname\u001b[0m\u001b[0;34m]\u001b[0m\u001b[0;34m\u001b[0m\u001b[0;34m\u001b[0m\u001b[0m\n\u001b[0;32m-> 6299\u001b[0;31m         \u001b[0;32mreturn\u001b[0m \u001b[0mobject\u001b[0m\u001b[0;34m.\u001b[0m\u001b[0m__getattribute__\u001b[0m\u001b[0;34m(\u001b[0m\u001b[0mself\u001b[0m\u001b[0;34m,\u001b[0m \u001b[0mname\u001b[0m\u001b[0;34m)\u001b[0m\u001b[0;34m\u001b[0m\u001b[0;34m\u001b[0m\u001b[0m\n\u001b[0m",
      "\u001b[0;31mAttributeError\u001b[0m: 'DataFrame' object has no attribute 'append'"
     ]
    }
   ],
   "source": [
    "import pandas as pd\n",
    "import time\n",
    "from selenium import webdriver\n",
    "from selenium.webdriver.chrome.service import Service\n",
    "from selenium.webdriver.chrome.options import Options\n",
    "from selenium.webdriver.common.by import By\n",
    "\n",
    "# List of websites\n",
    "website = [\n",
    "    'https://pfinventory.com/inventory/Bedroom',\n",
    "    'https://pfinventory.com/inventory/Living%20Room',\n",
    "    'https://pfinventory.com/inventory/Office',\n",
    "    'https://pfinventory.com/inventory/Accessories'\n",
    "]\n",
    "\n",
    "# Initialize WebDriver\n",
    "driver = webdriver.Chrome()\n",
    "\n",
    "# Initialize an empty list to store data\n",
    "all_data = []\n",
    "\n",
    "# Loop over all the websites\n",
    "for url in website:\n",
    "    driver.get(url)\n",
    "    time.sleep(10)\n",
    "    # Find all images and prices on the page\n",
    "    images = driver.find_elements(By.TAG_NAME, \"img\")\n",
    "    prices = driver.find_elements(By.CLASS_NAME, \"price-display\")\n",
    "\n",
    "    # Extract the 'src' attribute (image URLs) and 'title' attribute (image title)\n",
    "    image_urls = [image.get_attribute(\"src\") for image in images]\n",
    "    image_titles = [image.get_attribute(\"title\") for image in images]\n",
    "\n",
    "    # Extract prices text from the price display elements\n",
    "    price_texts = [price.text for price in prices]\n",
    "\n",
    "    # Drop the first two entries (if they don't have valid data)\n",
    "    image_urls = image_urls[2:]\n",
    "    image_titles = image_titles[2:]\n",
    "\n",
    "    # Combine the data for this website\n",
    "    website_data = {\n",
    "        'image_url': image_urls,\n",
    "        'price_text': price_texts,\n",
    "        'image_title': image_titles\n",
    "    }\n",
    "\n",
    "    # Append the data to the all_data list\n",
    "    all_data.append(website_data)\n",
    "\n",
    "# Close the driver after scraping\n",
    "driver.quit()\n",
    "\n"
   ]
  },
  {
   "cell_type": "code",
   "execution_count": 97,
   "metadata": {},
   "outputs": [],
   "source": [
    "# Create a DataFrame with all the collected data\n",
    "df1 = pd.DataFrame(all_data[0])\n",
    "df2 = pd.DataFrame(all_data[1])\n",
    "df3 = pd.DataFrame(all_data[2])\n",
    "df4 = pd.DataFrame(all_data[3])\n",
    "\n",
    "finaldf = pd.concat([df1, df2,df3,df4], ignore_index=True)"
   ]
  },
  {
   "cell_type": "code",
   "execution_count": 98,
   "metadata": {},
   "outputs": [
    {
     "data": {
      "text/html": [
       "<div>\n",
       "<style scoped>\n",
       "    .dataframe tbody tr th:only-of-type {\n",
       "        vertical-align: middle;\n",
       "    }\n",
       "\n",
       "    .dataframe tbody tr th {\n",
       "        vertical-align: top;\n",
       "    }\n",
       "\n",
       "    .dataframe thead th {\n",
       "        text-align: right;\n",
       "    }\n",
       "</style>\n",
       "<table border=\"1\" class=\"dataframe\">\n",
       "  <thead>\n",
       "    <tr style=\"text-align: right;\">\n",
       "      <th></th>\n",
       "      <th>image_url</th>\n",
       "      <th>price_text</th>\n",
       "      <th>image_title</th>\n",
       "    </tr>\n",
       "  </thead>\n",
       "  <tbody>\n",
       "    <tr>\n",
       "      <th>0</th>\n",
       "      <td>https://pf-online-inventory-images.s3.us-west-...</td>\n",
       "      <td>$175</td>\n",
       "      <td>Black oak finish king size mid mod style headb...</td>\n",
       "    </tr>\n",
       "    <tr>\n",
       "      <th>1</th>\n",
       "      <td>https://pf-online-inventory-images.s3.us-west-...</td>\n",
       "      <td>$645</td>\n",
       "      <td>Renee navy blue finish wood 8 drawer dresser</td>\n",
       "    </tr>\n",
       "    <tr>\n",
       "      <th>2</th>\n",
       "      <td>https://pf-online-inventory-images.s3.us-west-...</td>\n",
       "      <td>$195</td>\n",
       "      <td>Casselton king size cherry finish textured geo...</td>\n",
       "    </tr>\n",
       "    <tr>\n",
       "      <th>3</th>\n",
       "      <td>https://pf-online-inventory-images.s3.us-west-...</td>\n",
       "      <td>$375</td>\n",
       "      <td>Kegan walnut finish mid mod style 5 drawer che...</td>\n",
       "    </tr>\n",
       "    <tr>\n",
       "      <th>4</th>\n",
       "      <td>https://pf-online-inventory-images.s3.us-west-...</td>\n",
       "      <td>$369</td>\n",
       "      <td>Kim black finish wood 8 drawer double dresser</td>\n",
       "    </tr>\n",
       "  </tbody>\n",
       "</table>\n",
       "</div>"
      ],
      "text/plain": [
       "                                           image_url price_text  \\\n",
       "0  https://pf-online-inventory-images.s3.us-west-...       $175   \n",
       "1  https://pf-online-inventory-images.s3.us-west-...       $645   \n",
       "2  https://pf-online-inventory-images.s3.us-west-...       $195   \n",
       "3  https://pf-online-inventory-images.s3.us-west-...       $375   \n",
       "4  https://pf-online-inventory-images.s3.us-west-...       $369   \n",
       "\n",
       "                                         image_title  \n",
       "0  Black oak finish king size mid mod style headb...  \n",
       "1       Renee navy blue finish wood 8 drawer dresser  \n",
       "2  Casselton king size cherry finish textured geo...  \n",
       "3  Kegan walnut finish mid mod style 5 drawer che...  \n",
       "4      Kim black finish wood 8 drawer double dresser  "
      ]
     },
     "execution_count": 98,
     "metadata": {},
     "output_type": "execute_result"
    }
   ],
   "source": [
    "finaldf.head()"
   ]
  },
  {
   "cell_type": "code",
   "execution_count": null,
   "metadata": {},
   "outputs": [],
   "source": [
    "finaldf.to_csv('Furniture.csv', index=False)"
   ]
  }
 ],
 "metadata": {
  "kernelspec": {
   "display_name": "Python 3",
   "language": "python",
   "name": "python3"
  },
  "language_info": {
   "codemirror_mode": {
    "name": "ipython",
    "version": 3
   },
   "file_extension": ".py",
   "mimetype": "text/x-python",
   "name": "python",
   "nbconvert_exporter": "python",
   "pygments_lexer": "ipython3",
   "version": "3.10.0"
  },
  "orig_nbformat": 4,
  "vscode": {
   "interpreter": {
    "hash": "aee8b7b246df8f9039afb4144a1f6fd8d2ca17a180786b69acc140d282b71a49"
   }
  }
 },
 "nbformat": 4,
 "nbformat_minor": 2
}
