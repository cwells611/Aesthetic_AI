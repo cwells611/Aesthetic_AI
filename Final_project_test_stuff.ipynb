{
  "nbformat": 4,
  "nbformat_minor": 0,
  "metadata": {
    "colab": {
      "provenance": []
    },
    "kernelspec": {
      "name": "python3",
      "display_name": "Python 3"
    },
    "language_info": {
      "name": "python"
    }
  },
  "cells": [
    {
      "cell_type": "code",
      "execution_count": null,
      "metadata": {
        "id": "FwDJqYQ7Oq4N"
      },
      "outputs": [],
      "source": [
        "%pip install openai\n",
        "%pip install python-dotenv\n",
        "\n",
        "# %pip install requests"
      ]
    },
    {
      "cell_type": "code",
      "source": [
        "# # import openai\n",
        "# import requests\n",
        "# from io import BytesIO\n",
        "# from PIL import Image\n",
        "# import json\n",
        "\n",
        "# # # Set your OpenAI API key here\n",
        "# # openai.api_key = \"YOUR_OPENAI_API_KEY\"\n",
        "\n",
        "# import openai\n",
        "\n",
        "\n",
        "from openai import OpenAI\n",
        "from dotenv import load_dotenv, find_dotenv\n",
        "import os\n",
        "\n",
        "_ = load_dotenv(find_dotenv()) # read local .env file\n",
        "\n",
        "client = OpenAI(api_key=os.getenv('OPENAI_API_KEY'))"
      ],
      "metadata": {
        "id": "u3tTuh8DPekA"
      },
      "execution_count": null,
      "outputs": []
    },
    {
      "cell_type": "code",
      "source": [
        "# folowing totorial from \"https://realpython.com/generate-images-with-dalle-openai-api/\"\n",
        "\n",
        "################################################################################\n",
        "# generate an image from a text prompt\n",
        "################################################################################\n",
        "\n",
        "# for image generation\n",
        "from openai import OpenAI\n",
        "# for saving returned image json data\n",
        "import json\n",
        "from pathlib import Path\n",
        "\n",
        "# where to create/save reutrned image file data\n",
        "# DATA_DIR = Path.cwd() / \"responses\"\n",
        "# DATA_DIR.mkdir(exist_ok=True)\n",
        "\n",
        "# the text promt given to the AI to create an image from\n",
        "PROMPT = \"An eco-friendly computer from the 90s in the style of vaporwave\"\n",
        "\n",
        "# OpenAI().images.generate() makes the image and returns image object(?), being saved in response. (not sure if it counts as an object)\n",
        "response = OpenAI().images.generate(\n",
        "    model=\"dall-e-2\",   # \"dall-e-3\" more detailed but forces prompt rewriting, ( print(response.data[0].revised_prompt) to view rewite after returned image)\n",
        "    prompt= PROMPT,  # the text prompt\n",
        "    n= 1,  # how many images to create [1-10], defualt= 1\n",
        "    size= \"256x256\",  # \"256x256\", \"512x512\", or \"1024x1024\". dimensions in pixels of image. default= \"1024x1024\" (smaller=cheaper).\n",
        "    response_format=\"b64_json\", # defualt= \"url\"\n",
        ")\n",
        "\n",
        "print(\"response url: \", response.data[0].url)   # print returned image url\n",
        "print(\"response b64_json:\", response.data[0].b64_json[:50])  # print returned image json data\n",
        "\n",
        "# file_name = DATA_DIR / f\"{PROMPT[:5]}-{response.created}.json\"  # make new file for iamge data (named using timestamp so unique/new filename)\n",
        "file_name = \"output.json\"\n",
        "with open(file_name, mode=\"w\", encoding=\"utf-8\") as file:  # write response image data to a file\n",
        "    json.dump(response.to_dict(), file)\n",
        "\n",
        "\n",
        "\n",
        "################################################################################\n",
        "# decode the saved json to a png\n",
        "################################################################################\n",
        "\n",
        "# import json\n",
        "# from pathlib import Path\n",
        "from base64 import b64decode\n",
        "\n",
        "# get the file to decode and set decoded png location\n",
        "# DATA_DIR = Path.cwd() / \"responses\"\n",
        "# JSON_FILE = DATA_DIR / \"An ec-1667994848.json\"\n",
        "# IMAGE_DIR = Path.cwd() / \"images\" / JSON_FILE.stem\n",
        "\n",
        "JSON_FILE = \"output.json\"\n",
        "IMAGE_DIR = \"image\"\n",
        "\n",
        "# IMAGE_DIR.mkdir(parents=True, exist_ok=True)\n",
        "\n",
        "# read from the json file\n",
        "with open(JSON_FILE, mode=\"r\", encoding=\"utf-8\") as file:\n",
        "    response = json.load(file)\n",
        "\n",
        "\n",
        "for index, image_dict in enumerate(response[\"data\"]):\n",
        "    image_data = b64decode(image_dict[\"b64_json\"])\n",
        "    # image_file = IMAGE_DIR / f\"{JSON_FILE.stem}-{index}.png\"\n",
        "    image_file = \"image.png\"\n",
        "    with open(image_file, mode=\"wb\") as png:\n",
        "        png.write(image_data)"
      ],
      "metadata": {
        "id": "2um_gXM_H228"
      },
      "execution_count": null,
      "outputs": []
    }
  ]
}