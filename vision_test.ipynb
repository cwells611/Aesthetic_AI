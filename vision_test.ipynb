{
 "cells": [
  {
   "cell_type": "code",
   "execution_count": 1,
   "metadata": {},
   "outputs": [],
   "source": [
    "import openai\n",
    "import os\n",
    "from openai import OpenAI\n",
    "\n",
    "from dotenv import load_dotenv, find_dotenv\n",
    "_ = load_dotenv(find_dotenv()) # read local .env file\n",
    "\n",
    "client = OpenAI(api_key=os.getenv('OPENAI_API_KEY'))"
   ]
  },
  {
   "cell_type": "code",
   "execution_count": 2,
   "metadata": {},
   "outputs": [],
   "source": [
    "def get_completion(prompt, model=\"gpt-4o-mini\"):\n",
    "    messages = [{\"role\": \"user\", \"content\": prompt}]\n",
    "    response = client.chat.completions.create(\n",
    "        model=model,\n",
    "        messages=messages,\n",
    "        temperature=0, # this is the degree of randomness of the model's output\n",
    "    )\n",
    "    return response.choices[0].message.content"
   ]
  },
  {
   "cell_type": "code",
   "execution_count": 4,
   "metadata": {},
   "outputs": [
    {
     "name": "stdout",
     "output_type": "stream",
     "text": [
      "Choice(finish_reason='stop', index=0, logprobs=None, message=ChatCompletionMessage(content='Here are a few ideas to enhance the back wall of your room:\\n\\n1. **Gallery Wall**: Create a gallery wall with a mix of art styles, frames, and sizes. This can include photos, prints, and maybe even mirrors to add depth.\\n\\n2. **Large Artwork**: Consider a single large piece, like an abstract painting or a scenic landscape, to make a bold statement.\\n\\n3. **Shelving Unit**: Install floating shelves to display decorative items, books, or plants. This adds both functionality and visual interest.\\n\\n4. **Wall Decals or Murals**: Consider wall decals or a mural that reflects your style. Nature themes or geometric patterns can add a unique touch.\\n\\n5. **Textiles**: Hang a decorative textile or tapestry to add texture and warmth to the room.\\n\\n6. **Plants**: Consider wall-mounted planters or a vertical garden to bring some greenery and freshness to the space.\\n\\nChoose what resonates most with your personal style and complements the existing decor!', refusal=None, role='assistant', function_call=None, tool_calls=None))\n"
     ]
    }
   ],
   "source": [
    "import base64\n",
    "\n",
    "# Function to encode the image\n",
    "def encode_image(image_path):\n",
    "  with open(image_path, \"rb\") as image_file:\n",
    "    return base64.b64encode(image_file.read()).decode('utf-8')\n",
    "\n",
    "# Path to your image\n",
    "image_path = \"living_room_generic.jpg\"\n",
    "\n",
    "# Getting the base64 string\n",
    "base64_image = encode_image(image_path)\n",
    "\n",
    "response = client.chat.completions.create(\n",
    "  model=\"gpt-4o-mini\",\n",
    "  messages=[\n",
    "    {\n",
    "      \"role\": \"user\",\n",
    "      \"content\": [\n",
    "        {\n",
    "          \"type\": \"text\",\n",
    "          \"text\": \"As you can see from my room, the back wall is a little empty. I'm thinking of replacing the pictures with something else. What would you recommend?\",\n",
    "        },\n",
    "        {\n",
    "          \"type\": \"image_url\",\n",
    "          \"image_url\": {\n",
    "            \"url\":  f\"data:image/jpeg;base64,{base64_image}\"\n",
    "          },\n",
    "        },\n",
    "      ],\n",
    "    }\n",
    "  ],\n",
    ")\n",
    "\n",
    "print(response.choices[0])"
   ]
  },
  {
   "cell_type": "code",
   "execution_count": 22,
   "metadata": {},
   "outputs": [],
   "source": [
    "response = client.images.edit(\n",
    "    model=\"dall-e-2\", \n",
    "    image=open(\"empty_room_green.png\", \"rb\"), \n",
    "    mask=open(\"mask_empty_binary.png\", \"rb\"), \n",
    "    prompt=\"A sunlit living room, with a bookshelf on the left, a couch on the right, a painting above the couch, and a rug infront.\", \n",
    "    n=1, \n",
    "    size=\"1024x1024\"\n",
    ")\n",
    "\n",
    "image_url = response.data[0].url\n"
   ]
  },
  {
   "cell_type": "code",
   "execution_count": 23,
   "metadata": {},
   "outputs": [
    {
     "data": {
      "text/plain": [
       "'https://oaidalleapiprodscus.blob.core.windows.net/private/org-I63Tw09zDkcjDCYdd54en4Az/user-igDxminBneyLZ3enR6PzAmxq/img-zfZWHVRppHdditKpTOlYlkoX.png?st=2024-11-08T16%3A19%3A25Z&se=2024-11-08T18%3A19%3A25Z&sp=r&sv=2024-08-04&sr=b&rscd=inline&rsct=image/png&skoid=d505667d-d6c1-4a0a-bac7-5c84a87759f8&sktid=a48cca56-e6da-484e-a814-9c849652bcb3&skt=2024-11-07T19%3A44%3A06Z&ske=2024-11-08T19%3A44%3A06Z&sks=b&skv=2024-08-04&sig=VHarAwDEllixBx5sjWzLh/k8BuKK2ydyrsB8wy23A/E%3D'"
      ]
     },
     "execution_count": 23,
     "metadata": {},
     "output_type": "execute_result"
    }
   ],
   "source": [
    "response.data[0].url"
   ]
  },
  {
   "cell_type": "code",
   "execution_count": 17,
   "metadata": {},
   "outputs": [
    {
     "name": "stdout",
     "output_type": "stream",
     "text": [
      "(1024, 1024)\n",
      "(1024, 1024)\n"
     ]
    }
   ],
   "source": [
    "from PIL import Image\n",
    "img = Image.open(\"empty_room_green.png\")\n",
    "mask = Image.open(\"mask_empty.png\")\n",
    "print(img.size)  # Ensure both are the same size\n",
    "print(mask.size)\n"
   ]
  },
  {
   "cell_type": "code",
   "execution_count": 14,
   "metadata": {},
   "outputs": [],
   "source": [
    "mask = Image.open(\"mask_empty.png\").convert('1')  # Convert to black and white\n",
    "mask.save(\"mask_empty_binary.png\")\n"
   ]
  }
 ],
 "metadata": {
  "kernelspec": {
   "display_name": "Python 3",
   "language": "python",
   "name": "python3"
  },
  "language_info": {
   "codemirror_mode": {
    "name": "ipython",
    "version": 3
   },
   "file_extension": ".py",
   "mimetype": "text/x-python",
   "name": "python",
   "nbconvert_exporter": "python",
   "pygments_lexer": "ipython3",
   "version": "3.8.5"
  }
 },
 "nbformat": 4,
 "nbformat_minor": 4
}
